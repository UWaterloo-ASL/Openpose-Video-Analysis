{
 "cells": [
  {
   "cell_type": "markdown",
   "metadata": {},
   "source": [
    "# Create and Submit  Job Scripts"
   ]
  },
  {
   "cell_type": "code",
   "execution_count": 1,
   "metadata": {},
   "outputs": [],
   "source": [
    "import os"
   ]
  },
  {
   "cell_type": "code",
   "execution_count": 2,
   "metadata": {},
   "outputs": [],
   "source": [
    "job_dir = './job_script'\n",
    "input_dir = '../ROM_raw_videos_clips'\n",
    "#output_dir = '../ROM_raw_videos_clips_processed'\n",
    "output_dir = '../ROM_raw_videos_clips_processed_camera2'"
   ]
  },
  {
   "cell_type": "code",
   "execution_count": 3,
   "metadata": {},
   "outputs": [],
   "source": [
    "input_sub_dir = os.listdir(input_dir)\n",
    "#input_sub_dir = ['Oct_02', 'Oct_03']\n",
    "input_sub_dir.sort()"
   ]
  },
  {
   "cell_type": "markdown",
   "metadata": {},
   "source": [
    "## Create job.sh"
   ]
  },
  {
   "cell_type": "code",
   "execution_count": 4,
   "metadata": {},
   "outputs": [
    {
     "name": "stdout",
     "output_type": "stream",
     "text": [
      "Creat job_script for videos in ../ROM_raw_videos_clips/Oct_05, 36 videos in total.\n",
      "job_Camera1_Oct_05_1300_1400_Prescribed_behavior_0.sh\n",
      "job_Camera1_Oct_05_1300_1400_Prescribed_behavior_1.sh\n",
      "job_Camera1_Oct_05_1300_1400_Prescribed_behavior_2.sh\n",
      "job_Camera1_Oct_05_1300_1400_Prescribed_behavior_3.sh\n",
      "job_Camera1_Oct_05_1300_1400_Prescribed_behavior_4.sh\n",
      "job_Camera1_Oct_05_1300_1400_Prescribed_behavior_5.sh\n",
      "job_Camera1_Oct_05_1400_1500_Parameterized_Learning_Agent_0.sh\n",
      "job_Camera1_Oct_05_1400_1500_Parameterized_Learning_Agent_1.sh\n",
      "job_Camera1_Oct_05_1400_1500_Parameterized_Learning_Agent_2.sh\n",
      "job_Camera1_Oct_05_1400_1500_Parameterized_Learning_Agent_3.sh\n",
      "job_Camera1_Oct_05_1400_1500_Parameterized_Learning_Agent_4.sh\n",
      "job_Camera1_Oct_05_1400_1500_Parameterized_Learning_Agent_5.sh\n",
      "job_Camera1_Oct_05_1500_1600_Single_Agent_Raw_Act_0.sh\n",
      "job_Camera1_Oct_05_1500_1600_Single_Agent_Raw_Act_1.sh\n",
      "job_Camera1_Oct_05_1500_1600_Single_Agent_Raw_Act_2.sh\n",
      "job_Camera1_Oct_05_1500_1600_Single_Agent_Raw_Act_3.sh\n",
      "job_Camera1_Oct_05_1500_1600_Single_Agent_Raw_Act_4.sh\n",
      "job_Camera1_Oct_05_1500_1600_Single_Agent_Raw_Act_5.sh\n",
      "job_Camera2_Oct_05_1300_1400_Prescribed_behavior_0.sh\n",
      "job_Camera2_Oct_05_1300_1400_Prescribed_behavior_1.sh\n",
      "job_Camera2_Oct_05_1300_1400_Prescribed_behavior_2.sh\n",
      "job_Camera2_Oct_05_1300_1400_Prescribed_behavior_3.sh\n",
      "job_Camera2_Oct_05_1300_1400_Prescribed_behavior_4.sh\n",
      "job_Camera2_Oct_05_1300_1400_Prescribed_behavior_5.sh\n",
      "job_Camera2_Oct_05_1400_1500_Parameterized_Learning_Agent_0.sh\n",
      "job_Camera2_Oct_05_1400_1500_Parameterized_Learning_Agent_1.sh\n",
      "job_Camera2_Oct_05_1400_1500_Parameterized_Learning_Agent_2.sh\n",
      "job_Camera2_Oct_05_1400_1500_Parameterized_Learning_Agent_3.sh\n",
      "job_Camera2_Oct_05_1400_1500_Parameterized_Learning_Agent_4.sh\n",
      "job_Camera2_Oct_05_1400_1500_Parameterized_Learning_Agent_5.sh\n",
      "job_Camera2_Oct_05_1500_1600_Single_Agent_Raw_Act_0.sh\n",
      "job_Camera2_Oct_05_1500_1600_Single_Agent_Raw_Act_1.sh\n",
      "job_Camera2_Oct_05_1500_1600_Single_Agent_Raw_Act_2.sh\n",
      "job_Camera2_Oct_05_1500_1600_Single_Agent_Raw_Act_3.sh\n",
      "job_Camera2_Oct_05_1500_1600_Single_Agent_Raw_Act_4.sh\n",
      "job_Camera2_Oct_05_1500_1600_Single_Agent_Raw_Act_5.sh\n"
     ]
    }
   ],
   "source": [
    "GPU_NUM = 1\n",
    "JOB_TIME = '0-01:30'\n",
    "JOB_MEMORY = '8000M'\n",
    "PROCESS_SCRIPT = './process_video_low_frequent_frame.py'\n",
    "input_sub_dir = ['Oct_05']\n",
    "for date in input_sub_dir:\n",
    "    date_dir = os.path.join(input_dir, date)\n",
    "    videos_on_date = os.listdir(date_dir)\n",
    "    videos_on_date.sort()\n",
    "    print('Creat job_script for videos in {}, {} videos in total.'.format(date_dir, len(videos_on_date)))\n",
    "    \n",
    "    output_sub_dir = os.path.join(output_dir, date)\n",
    "    if not os.path.exists(output_sub_dir):\n",
    "        os.makedirs(output_sub_dir)\n",
    "    \n",
    "    job_sub_dir = os.path.join(job_dir, date)\n",
    "    if not os.path.exists(job_sub_dir):\n",
    "        os.makedirs(job_sub_dir)\n",
    "    \n",
    "    for video in videos_on_date:\n",
    "        input_file = os.path.join(date_dir, video)\n",
    "        video_name = video.split('.mp4')[0]\n",
    "        job_filename = 'job_{}.sh'.format(video_name)\n",
    "        print(job_filename)\n",
    "        with open(os.path.join(job_sub_dir, job_filename), 'w') as job_file:\n",
    "            job_file.write('#!/bin/bash\\n')\n",
    "            job_file.write('#SBATCH --account=def-dkulic\\n')\n",
    "            job_file.write('#SBATCH --gres=gpu:{}              # request GPU generic resource\\n'.format(GPU_NUM))\n",
    "            job_file.write('#SBATCH --cpus-per-task=2    #Maximum of CPU cores per GPU request: 6 on Cedar, 16 on Graham.\\n')\n",
    "            job_file.write('#SBATCH --mem={}               # memory per node\\n'.format(JOB_MEMORY))\n",
    "            job_file.write('#SBATCH --time={}            # time (DD-HH:MM)\\n'.format(JOB_TIME))\n",
    "            job_file.write('#SBATCH --output=./job_script_output/{}_%N-%j.out        # %N for node name, %j for jobID\\n'.format(video_name))\n",
    "            job_file.write('## Main processing command\\n')\n",
    "            job_file.write('## -v: path to the raw video file\\n')\n",
    "            job_file.write('## -o: directory to save processed video\\n')\n",
    "            job_file.write(\"python {} -v {} -o {}\\n\".format(PROCESS_SCRIPT, input_file, output_sub_dir))"
   ]
  },
  {
   "cell_type": "markdown",
   "metadata": {},
   "source": [
    "## Submit jobs"
   ]
  },
  {
   "cell_type": "code",
   "execution_count": 5,
   "metadata": {},
   "outputs": [],
   "source": [
    "# 'Oct_02': partially done\n",
    "# 'Sep_12': (submited 5:12pm on Oct. 3.)\n",
    "# 'Sep_13': (submited 5:12pm on Oct. 3.)\n",
    "# 'Sep_14': done (no video on Sep.14)\n",
    "# 'Sep_17': (submited 5:32pm on Oct. 3.)\n",
    "# 'Sep_18': (submited 5:41pm on Oct. 3.)\n",
    "# 'Sep_19': (submited 5:44pm on Oct. 3.)\n",
    "# 'Sep_20': (submited 5:46pm on Oct. 3.)\n",
    "# 'Sep_21': (submited 5:47pm on Oct. 3.)\n",
    "#PROCESS_VIDEOS_ON_DAY = ['Sep_24', 'Sep_25', 'Sep_26', 'Sep_27', 'Sep_28']\n",
    "#PROCESS_VIDEOS_ON_DAY = ['Oct_02', 'Oct_03']\n",
    "PROCESS_VIDEOS_ON_DAY = os.listdir(input_dir)\n",
    "PROCESS_VIDEOS_ON_DAY = ['Oct_05']"
   ]
  },
  {
   "cell_type": "code",
   "execution_count": 6,
   "metadata": {
    "scrolled": false
   },
   "outputs": [
    {
     "name": "stdout",
     "output_type": "stream",
     "text": [
      "Submitting job on Oct_05\n",
      "job_Camera1_Oct_05_1300_1400_Prescribed_behavior_0.sh: 0\n",
      "job_Camera1_Oct_05_1300_1400_Prescribed_behavior_1.sh: 0\n",
      "job_Camera1_Oct_05_1300_1400_Prescribed_behavior_2.sh: 0\n",
      "job_Camera1_Oct_05_1300_1400_Prescribed_behavior_3.sh: 0\n",
      "job_Camera1_Oct_05_1300_1400_Prescribed_behavior_4.sh: 0\n",
      "job_Camera1_Oct_05_1300_1400_Prescribed_behavior_5.sh: 0\n",
      "job_Camera1_Oct_05_1400_1500_Parameterized_Learning_Agent_0.sh: 0\n",
      "job_Camera1_Oct_05_1400_1500_Parameterized_Learning_Agent_1.sh: 0\n",
      "job_Camera1_Oct_05_1400_1500_Parameterized_Learning_Agent_2.sh: 0\n",
      "job_Camera1_Oct_05_1400_1500_Parameterized_Learning_Agent_3.sh: 0\n",
      "job_Camera1_Oct_05_1400_1500_Parameterized_Learning_Agent_4.sh: 0\n",
      "job_Camera1_Oct_05_1400_1500_Parameterized_Learning_Agent_5.sh: 0\n",
      "job_Camera1_Oct_05_1500_1600_Single_Agent_Raw_Act_0.sh: 0\n",
      "job_Camera1_Oct_05_1500_1600_Single_Agent_Raw_Act_1.sh: 0\n",
      "job_Camera1_Oct_05_1500_1600_Single_Agent_Raw_Act_2.sh: 0\n",
      "job_Camera1_Oct_05_1500_1600_Single_Agent_Raw_Act_3.sh: 0\n",
      "job_Camera1_Oct_05_1500_1600_Single_Agent_Raw_Act_4.sh: 0\n",
      "job_Camera1_Oct_05_1500_1600_Single_Agent_Raw_Act_5.sh: 0\n",
      "job_Camera2_Oct_05_1300_1400_Prescribed_behavior_0.sh: 0\n",
      "job_Camera2_Oct_05_1300_1400_Prescribed_behavior_1.sh: 0\n",
      "job_Camera2_Oct_05_1300_1400_Prescribed_behavior_2.sh: 0\n",
      "job_Camera2_Oct_05_1300_1400_Prescribed_behavior_3.sh: 0\n",
      "job_Camera2_Oct_05_1300_1400_Prescribed_behavior_4.sh: 0\n",
      "job_Camera2_Oct_05_1300_1400_Prescribed_behavior_5.sh: 0\n",
      "job_Camera2_Oct_05_1400_1500_Parameterized_Learning_Agent_0.sh: 0\n",
      "job_Camera2_Oct_05_1400_1500_Parameterized_Learning_Agent_1.sh: 0\n",
      "job_Camera2_Oct_05_1400_1500_Parameterized_Learning_Agent_2.sh: 0\n",
      "job_Camera2_Oct_05_1400_1500_Parameterized_Learning_Agent_3.sh: 0\n",
      "job_Camera2_Oct_05_1400_1500_Parameterized_Learning_Agent_4.sh: 0\n",
      "job_Camera2_Oct_05_1400_1500_Parameterized_Learning_Agent_5.sh: 0\n",
      "job_Camera2_Oct_05_1500_1600_Single_Agent_Raw_Act_0.sh: 0\n",
      "job_Camera2_Oct_05_1500_1600_Single_Agent_Raw_Act_1.sh: 0\n",
      "job_Camera2_Oct_05_1500_1600_Single_Agent_Raw_Act_2.sh: 0\n",
      "job_Camera2_Oct_05_1500_1600_Single_Agent_Raw_Act_3.sh: 0\n",
      "job_Camera2_Oct_05_1500_1600_Single_Agent_Raw_Act_4.sh: 0\n",
      "job_Camera2_Oct_05_1500_1600_Single_Agent_Raw_Act_5.sh: 0\n"
     ]
    }
   ],
   "source": [
    "job_sub_dir = os.listdir(job_dir)\n",
    "job_sub_dir.sort()\n",
    "\n",
    "for date in job_sub_dir:\n",
    "    \n",
    "    if date in PROCESS_VIDEOS_ON_DAY:\n",
    "        print('Submitting job on {}'.format(date))\n",
    "        date_dir = os.path.join(job_dir, date)\n",
    "        job_scripts = os.listdir(date_dir)\n",
    "        job_scripts.sort()\n",
    "        for job in job_scripts:\n",
    "            #if 'Camera2' in job:\n",
    "            code = os.system('sbatch {}'.format(os.path.join(date_dir, job)))\n",
    "            print('{}: {}'.format(job, code))\n",
    "    else:\n",
    "        pass"
   ]
  },
  {
   "cell_type": "code",
   "execution_count": null,
   "metadata": {},
   "outputs": [],
   "source": []
  },
  {
   "cell_type": "code",
   "execution_count": null,
   "metadata": {},
   "outputs": [],
   "source": []
  },
  {
   "cell_type": "code",
   "execution_count": null,
   "metadata": {},
   "outputs": [],
   "source": []
  }
 ],
 "metadata": {
  "kernelspec": {
   "display_name": "Python 3",
   "language": "python",
   "name": "python3"
  },
  "language_info": {
   "codemirror_mode": {
    "name": "ipython",
    "version": 3
   },
   "file_extension": ".py",
   "mimetype": "text/x-python",
   "name": "python",
   "nbconvert_exporter": "python",
   "pygments_lexer": "ipython3",
   "version": "3.5.2"
  }
 },
 "nbformat": 4,
 "nbformat_minor": 2
}
